{
 "cells": [
  {
   "cell_type": "code",
   "execution_count": 1,
   "id": "94d987df",
   "metadata": {},
   "outputs": [],
   "source": [
    "from model import run_model\n",
    "from sklearn.model_selection import train_test_split\n",
    "from pathlib import Path"
   ]
  },
  {
   "cell_type": "code",
   "execution_count": null,
   "id": "488ca1a6",
   "metadata": {},
   "outputs": [
    {
     "name": "stdout",
     "output_type": "stream",
     "text": [
      "[PosixPath('data/fitness/correlated/minority_10pct.csv'), PosixPath('data/fitness/correlated/minority_30pct.csv'), PosixPath('data/fitness/correlated/minority_3pct.csv'), PosixPath('data/fitness/correlated/minority_1pct.csv'), PosixPath('data/fitness/smote/minority_10pct_smote.csv'), PosixPath('data/fitness/smote/minority_1pct_smote.csv'), PosixPath('data/fitness/smote/minority_30pct_smote.csv'), PosixPath('data/fitness/smote/minority_3pct_smote.csv'), PosixPath('data/fitness/independent/minority_10pct.csv'), PosixPath('data/fitness/independent/minority_10pct_deduplicated.csv'), PosixPath('data/fitness/independent/minority_30pct.csv'), PosixPath('data/fitness/independent/minority_3pct.csv'), PosixPath('data/fitness/independent/minority_1pct.csv')]\n",
      "Error processing data/fitness/correlated/minority_10pct.csv: \"['sex'] not found in axis\"\n",
      "Error processing data/fitness/correlated/minority_30pct.csv: \"['sex'] not found in axis\"\n",
      "Error processing data/fitness/correlated/minority_3pct.csv: \"['sex'] not found in axis\"\n",
      "Error processing data/fitness/correlated/minority_1pct.csv: \"['sex'] not found in axis\"\n",
      "Error processing data/fitness/smote/minority_10pct_smote.csv: \"['sex'] not found in axis\"\n",
      "Error processing data/fitness/smote/minority_1pct_smote.csv: \"['sex'] not found in axis\"\n",
      "Error processing data/fitness/smote/minority_30pct_smote.csv: \"['sex'] not found in axis\"\n",
      "Error processing data/fitness/smote/minority_3pct_smote.csv: \"['sex'] not found in axis\"\n",
      "Error processing data/fitness/independent/minority_10pct.csv: \"['sex'] not found in axis\"\n",
      "Error processing data/fitness/independent/minority_10pct_deduplicated.csv: \"['sex'] not found in axis\"\n",
      "Error processing data/fitness/independent/minority_30pct.csv: \"['sex'] not found in axis\"\n",
      "Error processing data/fitness/independent/minority_3pct.csv: \"['sex'] not found in axis\"\n",
      "Error processing data/fitness/independent/minority_1pct.csv: \"['sex'] not found in axis\"\n",
      "data/fitness/correlated/minority_10pct.csv: None\n",
      "data/fitness/correlated/minority_30pct.csv: None\n",
      "data/fitness/correlated/minority_3pct.csv: None\n",
      "data/fitness/correlated/minority_1pct.csv: None\n",
      "data/fitness/smote/minority_10pct_smote.csv: None\n",
      "data/fitness/smote/minority_1pct_smote.csv: None\n",
      "data/fitness/smote/minority_30pct_smote.csv: None\n",
      "data/fitness/smote/minority_3pct_smote.csv: None\n",
      "data/fitness/independent/minority_10pct.csv: None\n",
      "data/fitness/independent/minority_10pct_deduplicated.csv: None\n",
      "data/fitness/independent/minority_30pct.csv: None\n",
      "data/fitness/independent/minority_3pct.csv: None\n",
      "data/fitness/independent/minority_1pct.csv: None\n"
     ]
    }
   ],
   "source": [
    "TARGET = 'sex'\n",
    "\n",
    "# Find all CSV files in subfolders of data/\n",
    "data_dir = Path('data/fitness')\n",
    "csv_files = [f for f in data_dir.rglob('*.csv') if f.parent != data_dir]\n",
    "\n",
    "# Dictionary to store results\n",
    "results = {}\n",
    "\n",
    "# Iterate over each CSV file\n",
    "for csv_file in csv_files:\n",
    "    filename = str(csv_file)\n",
    "    \n",
    "    try:\n",
    "        ROC_AUCs = run_model(filename, TARGET)\n",
    "        results[filename] = ROC_AUCs\n",
    "    except Exception as e:\n",
    "        print(f\"Error processing {filename}: {e}\")\n",
    "        results[filename] = None\n",
    "\n",
    "for filename, roc_aucs in results.items():\n",
    "    print(f\"{filename}: {roc_aucs}\")"
   ]
  },
  {
   "cell_type": "code",
   "execution_count": null,
   "id": "ed722c48",
   "metadata": {},
   "outputs": [],
   "source": []
  }
 ],
 "metadata": {
  "kernelspec": {
   "display_name": ".venv (3.13.1)",
   "language": "python",
   "name": "python3"
  },
  "language_info": {
   "codemirror_mode": {
    "name": "ipython",
    "version": 3
   },
   "file_extension": ".py",
   "mimetype": "text/x-python",
   "name": "python",
   "nbconvert_exporter": "python",
   "pygments_lexer": "ipython3",
   "version": "3.13.1"
  }
 },
 "nbformat": 4,
 "nbformat_minor": 5
}
