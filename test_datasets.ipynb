{
 "cells": [
  {
   "cell_type": "code",
   "execution_count": null,
   "id": "94d987df",
   "metadata": {},
   "outputs": [],
   "source": [
    "from model import run_model\n",
    "from sklearn.model_selection import train_test_split\n",
    "from pathlib import Path"
   ]
  },
  {
   "cell_type": "code",
   "execution_count": null,
   "id": "488ca1a6",
   "metadata": {},
   "outputs": [],
   "source": [
    "TARGET = 'is_fit'\n",
    "\n",
    "# Find all CSV files in subfolders of data/\n",
    "data_dir = Path('data')\n",
    "csv_files = [f for f in data_dir.rglob('*.csv') if f.parent != data_dir]\n",
    "\n",
    "# Dictionary to store results\n",
    "results = {}\n",
    "\n",
    "# Iterate over each CSV file\n",
    "for csv_file in csv_files:\n",
    "    filename = str(csv_file)\n",
    "    \n",
    "    try:\n",
    "        ROC_AUCs = run_model(filename, TARGET)\n",
    "        results[filename] = ROC_AUCs\n",
    "    except Exception as e:\n",
    "        print(f\"Error processing {filename}: {e}\")\n",
    "        results[filename] = None\n",
    "\n",
    "for filename, roc_aucs in results.items():\n",
    "    print(f\"{filename}: {roc_aucs}\")"
   ]
  },
  {
   "cell_type": "code",
   "execution_count": null,
   "id": "978174c3",
   "metadata": {},
   "outputs": [],
   "source": [
    "import re\n",
    "import matplotlib.pyplot as plt\n",
    "\n",
    "# Parse results and organize by method\n",
    "data_by_method = {}\n",
    "\n",
    "for filename, roc_aucs in results.items():\n",
    "    # Extract method and percentage using regex\n",
    "    # Pattern: data/fitness/{method}/minority_{percentage}pct...\n",
    "    match = re.search(r'data/fitness/([^/]+)/minority_(\\d+)pct', filename)\n",
    "    \n",
    "    if match and roc_aucs:\n",
    "        method = match.group(1)\n",
    "        percentage = int(match.group(2))\n",
    "        roc_auc = roc_aucs[0]  # Take first index as requested\n",
    "        \n",
    "        if method not in data_by_method:\n",
    "            data_by_method[method] = {'percentages': [], 'roc_aucs': []}\n",
    "        \n",
    "        data_by_method[method]['percentages'].append(percentage)\n",
    "        data_by_method[method]['roc_aucs'].append(roc_auc)\n",
    "\n",
    "# Sort each method's data by percentage\n",
    "for method in data_by_method:\n",
    "    # Zip, sort, and unzip to keep percentages and roc_aucs aligned\n",
    "    sorted_pairs = sorted(zip(data_by_method[method]['percentages'], \n",
    "                             data_by_method[method]['roc_aucs']))\n",
    "    data_by_method[method]['percentages'], data_by_method[method]['roc_aucs'] = zip(*sorted_pairs)\n",
    "\n",
    "# Plot each method with different color\n",
    "plt.figure(figsize=(10, 6))\n",
    "\n",
    "for method, data in data_by_method.items():\n",
    "    plt.plot(data['percentages'], data['roc_aucs'], marker='o', label=method)\n",
    "\n",
    "plt.xlabel('Minority Percentage (%)')\n",
    "plt.ylabel('ROC AUC')\n",
    "plt.title('ROC AUC vs Minority Percentage by Method')\n",
    "plt.legend()\n",
    "plt.grid(True, alpha=0.3)\n",
    "plt.show()"
   ]
  },
  {
   "cell_type": "code",
   "execution_count": null,
   "id": "eaebec81",
   "metadata": {},
   "outputs": [],
   "source": []
  }
 ],
 "metadata": {
  "kernelspec": {
   "display_name": ".venv (3.13.1)",
   "language": "python",
   "name": "python3"
  },
  "language_info": {
   "codemirror_mode": {
    "name": "ipython",
    "version": 3
   },
   "file_extension": ".py",
   "mimetype": "text/x-python",
   "name": "python",
   "nbconvert_exporter": "python",
   "pygments_lexer": "ipython3",
   "version": "3.13.1"
  }
 },
 "nbformat": 4,
 "nbformat_minor": 5
}
