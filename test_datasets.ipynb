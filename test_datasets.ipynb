{
 "cells": [
  {
   "cell_type": "code",
   "execution_count": null,
   "id": "94d987df",
   "metadata": {},
   "outputs": [],
   "source": [
    "from model import run_model\n",
    "from sklearn.model_selection import train_test_split\n",
    "from pathlib import Path"
   ]
  },
  {
   "cell_type": "code",
   "execution_count": null,
   "id": "488ca1a6",
   "metadata": {},
   "outputs": [],
   "source": [
    "TARGET = 'is_fit'\n",
    "\n",
    "# Find all CSV files in subfolders of data/\n",
    "data_dir = Path('data')\n",
    "csv_files = [f for f in data_dir.rglob('*.csv') if f.parent != data_dir]\n",
    "\n",
    "# Dictionary to store results\n",
    "results = {}\n",
    "\n",
    "# Iterate over each CSV file\n",
    "for csv_file in csv_files:\n",
    "    filename = str(csv_file)\n",
    "    \n",
    "    try:\n",
    "        ROC_AUCs = run_model(filename, TARGET)\n",
    "        results[filename] = ROC_AUCs\n",
    "    except Exception as e:\n",
    "        print(f\"Error processing {filename}: {e}\")\n",
    "        results[filename] = None\n",
    "\n",
    "for filename, roc_aucs in results.items():\n",
    "    print(f\"{filename}: {roc_aucs}\")"
   ]
  },
  {
   "cell_type": "code",
   "execution_count": null,
   "id": "ed722c48",
   "metadata": {},
   "outputs": [],
   "source": [
    "ROC_AUCs_correlated = []\n",
    "ROC_AUCs_independent = []\n",
    "for k, v in results.items():\n",
    "    if \"/correlated\" in k:\n",
    "        ROC_AUCs.append(v[0])\n",
    "        percents.append(int(k.split(\"/\")[-1].split(\"_\")[1].split(\".\")[0].split(\"pct\")[0]))"
   ]
  },
  {
   "cell_type": "code",
   "execution_count": null,
   "id": "b2b5b4a3",
   "metadata": {},
   "outputs": [],
   "source": [
    "ROC_AUCs"
   ]
  },
  {
   "cell_type": "code",
   "execution_count": null,
   "id": "a15f76e3",
   "metadata": {},
   "outputs": [],
   "source": [
    "percents"
   ]
  },
  {
   "cell_type": "code",
   "execution_count": null,
   "id": "ff850486",
   "metadata": {},
   "outputs": [],
   "source": [
    "import matplotlib.pyplot as plt\n",
    "plt.scatter(percents, ROC_AUCs)"
   ]
  },
  {
   "cell_type": "code",
   "execution_count": null,
   "id": "14d95a4f",
   "metadata": {},
   "outputs": [],
   "source": []
  }
 ],
 "metadata": {
  "kernelspec": {
   "display_name": ".venv (3.13.1)",
   "language": "python",
   "name": "python3"
  },
  "language_info": {
   "codemirror_mode": {
    "name": "ipython",
    "version": 3
   },
   "file_extension": ".py",
   "mimetype": "text/x-python",
   "name": "python",
   "nbconvert_exporter": "python",
   "pygments_lexer": "ipython3",
   "version": "3.13.1"
  }
 },
 "nbformat": 4,
 "nbformat_minor": 5
}
