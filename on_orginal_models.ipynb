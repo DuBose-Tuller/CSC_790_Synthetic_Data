{
 "cells": [
  {
   "cell_type": "code",
   "execution_count": 4,
   "id": "fcf60621",
   "metadata": {},
   "outputs": [],
   "source": [
    "# original dataset\n",
    "original_data = '/home/sahau24/csc790project/CSC_790_Synthetic_Data/penguins_original.csv'\n"
   ]
  },
  {
   "cell_type": "markdown",
   "id": "efda3c13",
   "metadata": {},
   "source": [
    "## unprocessed_df = original unprocess data"
   ]
  },
  {
   "cell_type": "code",
   "execution_count": 5,
   "id": "ce7f745a",
   "metadata": {},
   "outputs": [],
   "source": [
    "import pandas as pd"
   ]
  },
  {
   "cell_type": "code",
   "execution_count": 6,
   "id": "cb4b73be",
   "metadata": {},
   "outputs": [],
   "source": [
    "unprocessed_df = pd.read_csv(original_data)"
   ]
  },
  {
   "cell_type": "code",
   "execution_count": 7,
   "id": "af38990b",
   "metadata": {},
   "outputs": [
    {
     "name": "stdout",
     "output_type": "stream",
     "text": [
      "sex\n",
      "MALE      168\n",
      "FEMALE    165\n",
      ".           1\n",
      "Name: count, dtype: int64\n"
     ]
    }
   ],
   "source": [
    "# proportion of data in sex column\n",
    "print(unprocessed_df['sex'].value_counts(normalize=False))"
   ]
  },
  {
   "cell_type": "code",
   "execution_count": 9,
   "id": "7c0288e8",
   "metadata": {},
   "outputs": [
    {
     "name": "stdout",
     "output_type": "stream",
     "text": [
      "10\n"
     ]
    }
   ],
   "source": [
    "#missing values in sex column\n",
    "print(len(unprocessed_df[unprocessed_df['sex'].isnull()]))"
   ]
  },
  {
   "cell_type": "code",
   "execution_count": 10,
   "id": "a4c782ab",
   "metadata": {},
   "outputs": [
    {
     "data": {
      "text/html": [
       "<div>\n",
       "<style scoped>\n",
       "    .dataframe tbody tr th:only-of-type {\n",
       "        vertical-align: middle;\n",
       "    }\n",
       "\n",
       "    .dataframe tbody tr th {\n",
       "        vertical-align: top;\n",
       "    }\n",
       "\n",
       "    .dataframe thead th {\n",
       "        text-align: right;\n",
       "    }\n",
       "</style>\n",
       "<table border=\"1\" class=\"dataframe\">\n",
       "  <thead>\n",
       "    <tr style=\"text-align: right;\">\n",
       "      <th></th>\n",
       "      <th>species</th>\n",
       "      <th>island</th>\n",
       "      <th>culmen_length_mm</th>\n",
       "      <th>culmen_depth_mm</th>\n",
       "      <th>flipper_length_mm</th>\n",
       "      <th>body_mass_g</th>\n",
       "      <th>sex</th>\n",
       "    </tr>\n",
       "  </thead>\n",
       "  <tbody>\n",
       "    <tr>\n",
       "      <th>0</th>\n",
       "      <td>Adelie</td>\n",
       "      <td>Torgersen</td>\n",
       "      <td>39.1</td>\n",
       "      <td>18.7</td>\n",
       "      <td>181.0</td>\n",
       "      <td>3750.0</td>\n",
       "      <td>MALE</td>\n",
       "    </tr>\n",
       "    <tr>\n",
       "      <th>1</th>\n",
       "      <td>Adelie</td>\n",
       "      <td>Torgersen</td>\n",
       "      <td>39.5</td>\n",
       "      <td>17.4</td>\n",
       "      <td>186.0</td>\n",
       "      <td>3800.0</td>\n",
       "      <td>FEMALE</td>\n",
       "    </tr>\n",
       "    <tr>\n",
       "      <th>2</th>\n",
       "      <td>Adelie</td>\n",
       "      <td>Torgersen</td>\n",
       "      <td>40.3</td>\n",
       "      <td>18.0</td>\n",
       "      <td>195.0</td>\n",
       "      <td>3250.0</td>\n",
       "      <td>FEMALE</td>\n",
       "    </tr>\n",
       "    <tr>\n",
       "      <th>3</th>\n",
       "      <td>Adelie</td>\n",
       "      <td>Torgersen</td>\n",
       "      <td>NaN</td>\n",
       "      <td>NaN</td>\n",
       "      <td>NaN</td>\n",
       "      <td>NaN</td>\n",
       "      <td>NaN</td>\n",
       "    </tr>\n",
       "    <tr>\n",
       "      <th>4</th>\n",
       "      <td>Adelie</td>\n",
       "      <td>Torgersen</td>\n",
       "      <td>36.7</td>\n",
       "      <td>19.3</td>\n",
       "      <td>193.0</td>\n",
       "      <td>3450.0</td>\n",
       "      <td>FEMALE</td>\n",
       "    </tr>\n",
       "  </tbody>\n",
       "</table>\n",
       "</div>"
      ],
      "text/plain": [
       "  species     island  culmen_length_mm  culmen_depth_mm  flipper_length_mm  \\\n",
       "0  Adelie  Torgersen              39.1             18.7              181.0   \n",
       "1  Adelie  Torgersen              39.5             17.4              186.0   \n",
       "2  Adelie  Torgersen              40.3             18.0              195.0   \n",
       "3  Adelie  Torgersen               NaN              NaN                NaN   \n",
       "4  Adelie  Torgersen              36.7             19.3              193.0   \n",
       "\n",
       "   body_mass_g     sex  \n",
       "0       3750.0    MALE  \n",
       "1       3800.0  FEMALE  \n",
       "2       3250.0  FEMALE  \n",
       "3          NaN     NaN  \n",
       "4       3450.0  FEMALE  "
      ]
     },
     "execution_count": 10,
     "metadata": {},
     "output_type": "execute_result"
    }
   ],
   "source": [
    "unprocessed_df.head()"
   ]
  },
  {
   "cell_type": "code",
   "execution_count": 11,
   "id": "024f2086",
   "metadata": {},
   "outputs": [
    {
     "data": {
      "text/plain": [
       "sex\n",
       "MALE      168\n",
       "FEMALE    165\n",
       ".           1\n",
       "Name: count, dtype: int64"
      ]
     },
     "execution_count": 11,
     "metadata": {},
     "output_type": "execute_result"
    }
   ],
   "source": [
    "unprocessed_df[\"sex\"].value_counts(normalize=False)"
   ]
  },
  {
   "cell_type": "code",
   "execution_count": 12,
   "id": "852cd417",
   "metadata": {},
   "outputs": [
    {
     "data": {
      "text/plain": [
       "species\n",
       "Adelie       152\n",
       "Gentoo       124\n",
       "Chinstrap     68\n",
       "Name: count, dtype: int64"
      ]
     },
     "execution_count": 12,
     "metadata": {},
     "output_type": "execute_result"
    }
   ],
   "source": [
    "unprocessed_df[\"species\"].value_counts()"
   ]
  },
  {
   "cell_type": "code",
   "execution_count": 13,
   "id": "2b058e60",
   "metadata": {},
   "outputs": [
    {
     "data": {
      "text/plain": [
       "10"
      ]
     },
     "execution_count": 13,
     "metadata": {},
     "output_type": "execute_result"
    }
   ],
   "source": [
    "# missing values in sex column\n",
    "len(unprocessed_df[unprocessed_df['sex'].isnull()])"
   ]
  },
  {
   "cell_type": "code",
   "execution_count": 14,
   "id": "4bd93b21",
   "metadata": {},
   "outputs": [
    {
     "name": "stdout",
     "output_type": "stream",
     "text": [
      "10\n"
     ]
    }
   ],
   "source": [
    "# unprocess df with missing values in any columns\n",
    "unprocessed_df[unprocessed_df.isnull().any(axis=1)] \n",
    "print(len(unprocessed_df[unprocessed_df.isnull().any(axis=1)]))\n"
   ]
  },
  {
   "cell_type": "code",
   "execution_count": 15,
   "id": "25ef2d4d",
   "metadata": {},
   "outputs": [
    {
     "data": {
      "text/plain": [
       "(334, 7)"
      ]
     },
     "execution_count": 15,
     "metadata": {},
     "output_type": "execute_result"
    }
   ],
   "source": [
    "import pandas as pd\n",
    "fresh_df = unprocessed_df.dropna()\n",
    "fresh_df.shape"
   ]
  },
  {
   "cell_type": "code",
   "execution_count": 16,
   "id": "dc2d3d5c",
   "metadata": {},
   "outputs": [
    {
     "name": "stderr",
     "output_type": "stream",
     "text": [
      "/tmp/ipykernel_1087697/3052189557.py:7: SettingWithCopyWarning: \n",
      "A value is trying to be set on a copy of a slice from a DataFrame.\n",
      "Try using .loc[row_indexer,col_indexer] = value instead\n",
      "\n",
      "See the caveats in the documentation: https://pandas.pydata.org/pandas-docs/stable/user_guide/indexing.html#returning-a-view-versus-a-copy\n",
      "  fresh_df[col] = le.fit_transform(fresh_df[col])\n",
      "/tmp/ipykernel_1087697/3052189557.py:7: SettingWithCopyWarning: \n",
      "A value is trying to be set on a copy of a slice from a DataFrame.\n",
      "Try using .loc[row_indexer,col_indexer] = value instead\n",
      "\n",
      "See the caveats in the documentation: https://pandas.pydata.org/pandas-docs/stable/user_guide/indexing.html#returning-a-view-versus-a-copy\n",
      "  fresh_df[col] = le.fit_transform(fresh_df[col])\n",
      "/tmp/ipykernel_1087697/3052189557.py:7: SettingWithCopyWarning: \n",
      "A value is trying to be set on a copy of a slice from a DataFrame.\n",
      "Try using .loc[row_indexer,col_indexer] = value instead\n",
      "\n",
      "See the caveats in the documentation: https://pandas.pydata.org/pandas-docs/stable/user_guide/indexing.html#returning-a-view-versus-a-copy\n",
      "  fresh_df[col] = le.fit_transform(fresh_df[col])\n"
     ]
    }
   ],
   "source": [
    "# preprocess the catgorical features\n",
    "from sklearn.model_selection import train_test_split\n",
    "from sklearn.preprocessing import LabelEncoder\n",
    "categorical_features = ['species', 'island', 'sex']\n",
    "for col in categorical_features:\n",
    "    le = LabelEncoder()\n",
    "    fresh_df[col] = le.fit_transform(fresh_df[col])"
   ]
  },
  {
   "cell_type": "code",
   "execution_count": 17,
   "id": "7abe7098",
   "metadata": {},
   "outputs": [
    {
     "data": {
      "text/html": [
       "<div>\n",
       "<style scoped>\n",
       "    .dataframe tbody tr th:only-of-type {\n",
       "        vertical-align: middle;\n",
       "    }\n",
       "\n",
       "    .dataframe tbody tr th {\n",
       "        vertical-align: top;\n",
       "    }\n",
       "\n",
       "    .dataframe thead th {\n",
       "        text-align: right;\n",
       "    }\n",
       "</style>\n",
       "<table border=\"1\" class=\"dataframe\">\n",
       "  <thead>\n",
       "    <tr style=\"text-align: right;\">\n",
       "      <th></th>\n",
       "      <th>species</th>\n",
       "      <th>island</th>\n",
       "      <th>culmen_length_mm</th>\n",
       "      <th>culmen_depth_mm</th>\n",
       "      <th>flipper_length_mm</th>\n",
       "      <th>body_mass_g</th>\n",
       "      <th>sex</th>\n",
       "    </tr>\n",
       "  </thead>\n",
       "  <tbody>\n",
       "    <tr>\n",
       "      <th>0</th>\n",
       "      <td>0</td>\n",
       "      <td>2</td>\n",
       "      <td>39.1</td>\n",
       "      <td>18.7</td>\n",
       "      <td>181.0</td>\n",
       "      <td>3750.0</td>\n",
       "      <td>2</td>\n",
       "    </tr>\n",
       "    <tr>\n",
       "      <th>1</th>\n",
       "      <td>0</td>\n",
       "      <td>2</td>\n",
       "      <td>39.5</td>\n",
       "      <td>17.4</td>\n",
       "      <td>186.0</td>\n",
       "      <td>3800.0</td>\n",
       "      <td>1</td>\n",
       "    </tr>\n",
       "    <tr>\n",
       "      <th>2</th>\n",
       "      <td>0</td>\n",
       "      <td>2</td>\n",
       "      <td>40.3</td>\n",
       "      <td>18.0</td>\n",
       "      <td>195.0</td>\n",
       "      <td>3250.0</td>\n",
       "      <td>1</td>\n",
       "    </tr>\n",
       "    <tr>\n",
       "      <th>4</th>\n",
       "      <td>0</td>\n",
       "      <td>2</td>\n",
       "      <td>36.7</td>\n",
       "      <td>19.3</td>\n",
       "      <td>193.0</td>\n",
       "      <td>3450.0</td>\n",
       "      <td>1</td>\n",
       "    </tr>\n",
       "    <tr>\n",
       "      <th>5</th>\n",
       "      <td>0</td>\n",
       "      <td>2</td>\n",
       "      <td>39.3</td>\n",
       "      <td>20.6</td>\n",
       "      <td>190.0</td>\n",
       "      <td>3650.0</td>\n",
       "      <td>2</td>\n",
       "    </tr>\n",
       "  </tbody>\n",
       "</table>\n",
       "</div>"
      ],
      "text/plain": [
       "   species  island  culmen_length_mm  culmen_depth_mm  flipper_length_mm  \\\n",
       "0        0       2              39.1             18.7              181.0   \n",
       "1        0       2              39.5             17.4              186.0   \n",
       "2        0       2              40.3             18.0              195.0   \n",
       "4        0       2              36.7             19.3              193.0   \n",
       "5        0       2              39.3             20.6              190.0   \n",
       "\n",
       "   body_mass_g  sex  \n",
       "0       3750.0    2  \n",
       "1       3800.0    1  \n",
       "2       3250.0    1  \n",
       "4       3450.0    1  \n",
       "5       3650.0    2  "
      ]
     },
     "execution_count": 17,
     "metadata": {},
     "output_type": "execute_result"
    }
   ],
   "source": [
    "fresh_df.head()"
   ]
  },
  {
   "cell_type": "code",
   "execution_count": 18,
   "id": "5289fb2a",
   "metadata": {},
   "outputs": [
    {
     "data": {
      "text/plain": [
       "array([2, 1, 0])"
      ]
     },
     "execution_count": 18,
     "metadata": {},
     "output_type": "execute_result"
    }
   ],
   "source": [
    "#unique values in sex column\n",
    "fresh_df[\"sex\"].unique()"
   ]
  },
  {
   "cell_type": "code",
   "execution_count": 19,
   "id": "4236613b",
   "metadata": {},
   "outputs": [
    {
     "data": {
      "text/plain": [
       "(333, 7)"
      ]
     },
     "execution_count": 19,
     "metadata": {},
     "output_type": "execute_result"
    }
   ],
   "source": [
    "# remove 0 unique values from sex column\n",
    "fresh_df = fresh_df[fresh_df[\"sex\"] != 0]\n",
    "fresh_df.shape"
   ]
  },
  {
   "cell_type": "markdown",
   "id": "e8a2c424",
   "metadata": {},
   "source": [
    " 1 - male \n",
    " 2 - female \n",
    " 3- dot\n",
    " 0 - Nan"
   ]
  },
  {
   "cell_type": "code",
   "execution_count": 20,
   "id": "ff36897f",
   "metadata": {},
   "outputs": [
    {
     "name": "stdout",
     "output_type": "stream",
     "text": [
      "Train shape: (199, 7), Val shape: (67, 7), Test shape: (67, 7)\n"
     ]
    }
   ],
   "source": [
    "# Split the dataset into train, val and test sets\n",
    "from sklearn.model_selection import train_test_split\n",
    "\n",
    "train_val_df, test_df = train_test_split(fresh_df, test_size=0.2, random_state=42)\n",
    "train_df, val_df = train_test_split(train_val_df, test_size=0.25, random_state=42) # 0.25 x 0.8 = 0.2\n",
    "print(f\"Train shape: {train_df.shape}, Val shape: {val_df.shape}, Test shape: {test_df.shape}\")\n",
    "# Separate features and target variable\n",
    "X_train = train_df.drop(columns=['species'])\n",
    "y_train = train_df['species']\n",
    "X_val = val_df.drop(columns=['species'])\n",
    "y_val = val_df['species']\n",
    "X_test = test_df.drop(columns=['species'])\n",
    "y_test = test_df['species'] \n"
   ]
  },
  {
   "cell_type": "code",
   "execution_count": 21,
   "id": "fba1fa4b",
   "metadata": {},
   "outputs": [
    {
     "name": "stdout",
     "output_type": "stream",
     "text": [
      "Validation Set Results:\n",
      "Random Forest Classifier on Original Data\n",
      "              precision    recall  f1-score   support\n",
      "\n",
      "           0       0.97      0.94      0.95        32\n",
      "           1       0.87      0.93      0.90        14\n",
      "           2       1.00      1.00      1.00        21\n",
      "\n",
      "    accuracy                           0.96        67\n",
      "   macro avg       0.94      0.96      0.95        67\n",
      "weighted avg       0.96      0.96      0.96        67\n",
      "\n",
      "Accuracy: 0.9552238805970149\n",
      "ROC AUC: 0.9914869721473495\n",
      "________________________________\n",
      "Test Set Results:\n",
      "Random Forest Classifier on Original Data\n",
      "              precision    recall  f1-score   support\n",
      "\n",
      "           0       1.00      1.00      1.00        31\n",
      "           1       1.00      1.00      1.00        13\n",
      "           2       1.00      1.00      1.00        23\n",
      "\n",
      "    accuracy                           1.00        67\n",
      "   macro avg       1.00      1.00      1.00        67\n",
      "weighted avg       1.00      1.00      1.00        67\n",
      "\n",
      "Accuracy: 1.0\n",
      "ROC AUC: 1.0\n"
     ]
    }
   ],
   "source": [
    "# Run Random Forest Classifier on original data\n",
    "from sklearn.ensemble import RandomForestClassifier\n",
    "from sklearn.metrics import classification_report, accuracy_score   \n",
    "\n",
    "rf = RandomForestClassifier(n_estimators=100, random_state=42)\n",
    "\n",
    "rf.fit(X_train, y_train)\n",
    "# validation set\n",
    "print(\"Validation Set Results:\")\n",
    "y_val_pred = rf.predict(X_val)\n",
    "print(\"Random Forest Classifier on Original Data\")\n",
    "print(classification_report(y_val, y_val_pred))\n",
    "print(\"Accuracy:\", accuracy_score(y_val, y_val_pred))\n",
    "# area under ROC curve      \n",
    "from sklearn.metrics import roc_auc_score\n",
    "y_val_prob = rf.predict_proba(X_val)\n",
    "roc_auc = roc_auc_score(y_val, y_val_prob, multi_class='ovr')\n",
    "print(\"ROC AUC:\", roc_auc)\n",
    "\n",
    "# test set  \n",
    "print(\"________________________________\")\n",
    "print(\"Test Set Results:\")\n",
    "y_pred = rf.predict(X_test)\n",
    "print(\"Random Forest Classifier on Original Data\")\n",
    "print(classification_report(y_test, y_pred))\n",
    "print(\"Accuracy:\", accuracy_score(y_test, y_pred))\n",
    "# area under ROC curve\n",
    "from sklearn.metrics import roc_auc_score\n",
    "y_prob = rf.predict_proba(X_test)\n",
    "roc_auc = roc_auc_score(y_test, y_prob, multi_class='ovr')\n",
    "print(\"ROC AUC:\", roc_auc)\n",
    "\n",
    "\n"
   ]
  },
  {
   "cell_type": "code",
   "execution_count": 22,
   "id": "cdafa554",
   "metadata": {},
   "outputs": [
    {
     "name": "stdout",
     "output_type": "stream",
     "text": [
      "Validation Set Results:\n",
      "Histogram-based Gradient Boosting Classifier on Original Data\n",
      "              precision    recall  f1-score   support\n",
      "\n",
      "           0       0.97      0.97      0.97        32\n",
      "           1       0.93      0.93      0.93        14\n",
      "           2       1.00      1.00      1.00        21\n",
      "\n",
      "    accuracy                           0.97        67\n",
      "   macro avg       0.97      0.97      0.97        67\n",
      "weighted avg       0.97      0.97      0.97        67\n",
      "\n",
      "Accuracy: 0.9701492537313433\n",
      "ROC AUC: 0.9977594339622642\n",
      "---------------------\n",
      "Test Set Results:\n",
      "Histogram-based Gradient Boosting Classifier on Original Data\n",
      "              precision    recall  f1-score   support\n",
      "\n",
      "           0       1.00      1.00      1.00        31\n",
      "           1       1.00      1.00      1.00        13\n",
      "           2       1.00      1.00      1.00        23\n",
      "\n",
      "    accuracy                           1.00        67\n",
      "   macro avg       1.00      1.00      1.00        67\n",
      "weighted avg       1.00      1.00      1.00        67\n",
      "\n",
      "Accuracy: 1.0\n",
      "ROC AUC: 1.0\n"
     ]
    }
   ],
   "source": [
    "# run histogram-based gradient boosting classifier on original data\n",
    "from sklearn.ensemble import HistGradientBoostingClassifier\n",
    "hgb = HistGradientBoostingClassifier(random_state=42)\n",
    "hgb.fit(X_train, y_train)\n",
    "# validation set\n",
    "print(\"Validation Set Results:\")        \n",
    "y_val_pred_hgb = hgb.predict(X_val)\n",
    "print(\"Histogram-based Gradient Boosting Classifier on Original Data\")\n",
    "print(classification_report(y_val, y_val_pred_hgb))\n",
    "print(\"Accuracy:\", accuracy_score(y_val, y_val_pred_hgb))\n",
    "# area under ROC curve\n",
    "\n",
    "y_val_prob_hgb = hgb.predict_proba(X_val)\n",
    "roc_auc_hgb = roc_auc_score(y_val, y_val_prob_hgb, multi_class='ovr')\n",
    "print(\"ROC AUC:\", roc_auc_hgb)\n",
    "# test set\n",
    "print(\"---------------------\")\n",
    "print(\"Test Set Results:\")  \n",
    "y_pred_hgb = hgb.predict(X_test)\n",
    "print(\"Histogram-based Gradient Boosting Classifier on Original Data\")\n",
    "print(classification_report(y_test, y_pred_hgb))\n",
    "print(\"Accuracy:\", accuracy_score(y_test, y_pred_hgb))\n",
    "# area under ROC curve\n",
    "y_prob_hgb = hgb.predict_proba(X_test)\n",
    "roc_auc_hgb = roc_auc_score(y_test, y_prob_hgb, multi_class='ovr')\n",
    "print(\"ROC AUC:\", roc_auc_hgb)  "
   ]
  },
  {
   "cell_type": "code",
   "execution_count": 23,
   "id": "1afab4a4",
   "metadata": {},
   "outputs": [
    {
     "name": "stdout",
     "output_type": "stream",
     "text": [
      "Validation Set Results:\n",
      "Logistic Regression on Original Data\n",
      "              precision    recall  f1-score   support\n",
      "\n",
      "           0       1.00      1.00      1.00        32\n",
      "           1       1.00      1.00      1.00        14\n",
      "           2       1.00      1.00      1.00        21\n",
      "\n",
      "    accuracy                           1.00        67\n",
      "   macro avg       1.00      1.00      1.00        67\n",
      "weighted avg       1.00      1.00      1.00        67\n",
      "\n",
      "Accuracy: 1.0\n",
      "ROC AUC: 1.0\n",
      "________________________________\n",
      "Test Set Results:\n",
      "Logistic Regression on Original Data\n",
      "              precision    recall  f1-score   support\n",
      "\n",
      "           0       1.00      1.00      1.00        31\n",
      "           1       1.00      1.00      1.00        13\n",
      "           2       1.00      1.00      1.00        23\n",
      "\n",
      "    accuracy                           1.00        67\n",
      "   macro avg       1.00      1.00      1.00        67\n",
      "weighted avg       1.00      1.00      1.00        67\n",
      "\n",
      "Accuracy: 1.0\n",
      "ROC AUC: 1.0\n"
     ]
    }
   ],
   "source": [
    "# Logistic Regression on original data\n",
    "from sklearn.linear_model import LogisticRegression\n",
    "log_reg = LogisticRegression(max_iter=20000)          \n",
    "\n",
    "log_reg.fit(X_train, y_train)\n",
    "# validation set\n",
    "print(\"Validation Set Results:\")\n",
    "y_val_pred = log_reg.predict(X_val)\n",
    "print(\"Logistic Regression on Original Data\")\n",
    "print(classification_report(y_val, y_val_pred))\n",
    "print(\"Accuracy:\", accuracy_score(y_val, y_val_pred))\n",
    "# area under ROC curve      \n",
    "y_val_prob = log_reg.predict_proba(X_val)       \n",
    "roc_auc = roc_auc_score(y_val, y_val_prob, multi_class='ovr')\n",
    "print(\"ROC AUC:\", roc_auc)\n",
    "# test set  \n",
    "print(\"________________________________\")\n",
    "print(\"Test Set Results:\")\n",
    "y_pred = log_reg.predict(X_test)\n",
    "print(\"Logistic Regression on Original Data\")\n",
    "print(classification_report(y_test, y_pred))\n",
    "print(\"Accuracy:\", accuracy_score(y_test, y_pred))\n",
    "# area under ROC curve\n",
    "y_prob = log_reg.predict_proba(X_test)\n",
    "roc_auc = roc_auc_score(y_test, y_prob, multi_class='ovr')\n",
    "print(\"ROC AUC:\", roc_auc)  "
   ]
  }
 ],
 "metadata": {
  "kernelspec": {
   "display_name": "Python 3",
   "language": "python",
   "name": "python3"
  },
  "language_info": {
   "codemirror_mode": {
    "name": "ipython",
    "version": 3
   },
   "file_extension": ".py",
   "mimetype": "text/x-python",
   "name": "python",
   "nbconvert_exporter": "python",
   "pygments_lexer": "ipython3",
   "version": "3.11.8"
  }
 },
 "nbformat": 4,
 "nbformat_minor": 5
}
