{
 "cells": [
  {
   "cell_type": "code",
   "execution_count": null,
   "id": "fcf60621",
   "metadata": {},
   "outputs": [],
   "source": [
    "# original dataset\n",
    "original_data = 'data/penguins_combined.csv'\n"
   ]
  },
  {
   "cell_type": "markdown",
   "id": "efda3c13",
   "metadata": {},
   "source": [
    "## unprocessed_df = original unprocess data"
   ]
  },
  {
   "cell_type": "code",
   "execution_count": null,
   "id": "ce7f745a",
   "metadata": {},
   "outputs": [],
   "source": [
    "import pandas as pd"
   ]
  },
  {
   "cell_type": "code",
   "execution_count": null,
   "id": "cb4b73be",
   "metadata": {},
   "outputs": [],
   "source": [
    "unprocessed_df = pd.read_csv(original_data)"
   ]
  },
  {
   "cell_type": "code",
   "execution_count": null,
   "id": "af38990b",
   "metadata": {},
   "outputs": [],
   "source": [
    "# proportion of data in sex column\n",
    "print(unprocessed_df['sex'].value_counts(normalize=False))"
   ]
  },
  {
   "cell_type": "code",
   "execution_count": null,
   "id": "7c0288e8",
   "metadata": {},
   "outputs": [],
   "source": [
    "#missing values in sex column\n",
    "print(len(unprocessed_df[unprocessed_df['sex'].isnull()]))"
   ]
  },
  {
   "cell_type": "code",
   "execution_count": null,
   "id": "a4c782ab",
   "metadata": {},
   "outputs": [],
   "source": [
    "unprocessed_df.head()"
   ]
  },
  {
   "cell_type": "code",
   "execution_count": null,
   "id": "024f2086",
   "metadata": {},
   "outputs": [],
   "source": [
    "unprocessed_df[\"sex\"].value_counts(normalize=False)"
   ]
  },
  {
   "cell_type": "code",
   "execution_count": null,
   "id": "852cd417",
   "metadata": {},
   "outputs": [],
   "source": [
    "unprocessed_df[\"species\"].value_counts()"
   ]
  },
  {
   "cell_type": "code",
   "execution_count": null,
   "id": "2b058e60",
   "metadata": {},
   "outputs": [],
   "source": [
    "# missing values in sex column\n",
    "len(unprocessed_df[unprocessed_df['sex'].isnull()])"
   ]
  },
  {
   "cell_type": "code",
   "execution_count": null,
   "id": "4bd93b21",
   "metadata": {},
   "outputs": [],
   "source": [
    "# unprocess df with missing values in any columns\n",
    "unprocessed_df[unprocessed_df.isnull().any(axis=1)] \n",
    "print(len(unprocessed_df[unprocessed_df.isnull().any(axis=1)]))\n"
   ]
  },
  {
   "cell_type": "code",
   "execution_count": null,
   "id": "25ef2d4d",
   "metadata": {},
   "outputs": [],
   "source": [
    "import pandas as pd\n",
    "fresh_df = unprocessed_df.dropna()\n",
    "fresh_df.shape"
   ]
  },
  {
   "cell_type": "code",
   "execution_count": null,
   "id": "dc2d3d5c",
   "metadata": {},
   "outputs": [],
   "source": [
    "# preprocess the catgorical features\n",
    "from sklearn.model_selection import train_test_split\n",
    "from sklearn.preprocessing import LabelEncoder\n",
    "categorical_features = ['species', 'island', 'sex']\n",
    "for col in categorical_features:\n",
    "    le = LabelEncoder()\n",
    "    fresh_df[col] = le.fit_transform(fresh_df[col])"
   ]
  },
  {
   "cell_type": "code",
   "execution_count": null,
   "id": "7abe7098",
   "metadata": {},
   "outputs": [],
   "source": [
    "fresh_df.head()"
   ]
  },
  {
   "cell_type": "code",
   "execution_count": null,
   "id": "5289fb2a",
   "metadata": {},
   "outputs": [],
   "source": [
    "#unique values in sex column\n",
    "fresh_df[\"sex\"].unique()"
   ]
  },
  {
   "cell_type": "code",
   "execution_count": null,
   "id": "4236613b",
   "metadata": {},
   "outputs": [],
   "source": [
    "# remove 0 unique values from sex column\n",
    "fresh_df = fresh_df[fresh_df[\"sex\"] != 0]\n",
    "fresh_df.shape"
   ]
  },
  {
   "cell_type": "markdown",
   "id": "e8a2c424",
   "metadata": {},
   "source": [
    " 1 - male \n",
    " 2 - female \n",
    " 3- dot\n",
    " 0 - Nan"
   ]
  },
  {
   "cell_type": "code",
   "execution_count": null,
   "id": "ff36897f",
   "metadata": {},
   "outputs": [],
   "source": [
    "# Split the dataset into train, val and test sets\n",
    "from sklearn.model_selection import train_test_split\n",
    "\n",
    "train_val_df, test_df = train_test_split(fresh_df, test_size=0.2, random_state=42)\n",
    "train_df, val_df = train_test_split(train_val_df, test_size=0.25, random_state=42) # 0.25 x 0.8 = 0.2\n",
    "print(f\"Train shape: {train_df.shape}, Val shape: {val_df.shape}, Test shape: {test_df.shape}\")\n",
    "# Separate features and target variable\n",
    "X_train = train_df.drop(columns=['species'])\n",
    "y_train = train_df['species']\n",
    "X_val = val_df.drop(columns=['species'])\n",
    "y_val = val_df['species']\n",
    "X_test = test_df.drop(columns=['species'])\n",
    "y_test = test_df['species'] \n"
   ]
  },
  {
   "cell_type": "code",
   "execution_count": null,
   "id": "fba1fa4b",
   "metadata": {},
   "outputs": [],
   "source": [
    "# Run Random Forest Classifier on original data\n",
    "from sklearn.ensemble import RandomForestClassifier\n",
    "from sklearn.metrics import classification_report, accuracy_score   \n",
    "\n",
    "rf = RandomForestClassifier(n_estimators=100, random_state=42)\n",
    "\n",
    "rf.fit(X_train, y_train)\n",
    "# validation set\n",
    "print(\"Validation Set Results:\")\n",
    "y_val_pred = rf.predict(X_val)\n",
    "print(\"Random Forest Classifier on Original Data\")\n",
    "print(classification_report(y_val, y_val_pred))\n",
    "print(\"Accuracy:\", accuracy_score(y_val, y_val_pred))\n",
    "# area under ROC curve      \n",
    "from sklearn.metrics import roc_auc_score\n",
    "y_val_prob = rf.predict_proba(X_val)\n",
    "roc_auc = roc_auc_score(y_val, y_val_prob, multi_class='ovr')\n",
    "print(\"ROC AUC:\", roc_auc)\n",
    "\n",
    "# test set  \n",
    "print(\"________________________________\")\n",
    "print(\"Test Set Results:\")\n",
    "y_pred = rf.predict(X_test)\n",
    "print(\"Random Forest Classifier on Original Data\")\n",
    "print(classification_report(y_test, y_pred))\n",
    "print(\"Accuracy:\", accuracy_score(y_test, y_pred))\n",
    "# area under ROC curve\n",
    "from sklearn.metrics import roc_auc_score\n",
    "y_prob = rf.predict_proba(X_test)\n",
    "roc_auc = roc_auc_score(y_test, y_prob, multi_class='ovr')\n",
    "print(\"ROC AUC:\", roc_auc)\n",
    "\n",
    "\n"
   ]
  },
  {
   "cell_type": "code",
   "execution_count": null,
   "id": "cdafa554",
   "metadata": {},
   "outputs": [],
   "source": [
    "# run histogram-based gradient boosting classifier on original data\n",
    "from sklearn.ensemble import HistGradientBoostingClassifier\n",
    "hgb = HistGradientBoostingClassifier(random_state=42)\n",
    "hgb.fit(X_train, y_train)\n",
    "# validation set\n",
    "print(\"Validation Set Results:\")        \n",
    "y_val_pred_hgb = hgb.predict(X_val)\n",
    "print(\"Histogram-based Gradient Boosting Classifier on Original Data\")\n",
    "print(classification_report(y_val, y_val_pred_hgb))\n",
    "print(\"Accuracy:\", accuracy_score(y_val, y_val_pred_hgb))\n",
    "# area under ROC curve\n",
    "\n",
    "y_val_prob_hgb = hgb.predict_proba(X_val)\n",
    "roc_auc_hgb = roc_auc_score(y_val, y_val_prob_hgb, multi_class='ovr')\n",
    "print(\"ROC AUC:\", roc_auc_hgb)\n",
    "# test set\n",
    "print(\"---------------------\")\n",
    "print(\"Test Set Results:\")  \n",
    "y_pred_hgb = hgb.predict(X_test)\n",
    "print(\"Histogram-based Gradient Boosting Classifier on Original Data\")\n",
    "print(classification_report(y_test, y_pred_hgb))\n",
    "print(\"Accuracy:\", accuracy_score(y_test, y_pred_hgb))\n",
    "# area under ROC curve\n",
    "y_prob_hgb = hgb.predict_proba(X_test)\n",
    "roc_auc_hgb = roc_auc_score(y_test, y_prob_hgb, multi_class='ovr')\n",
    "print(\"ROC AUC:\", roc_auc_hgb)  "
   ]
  },
  {
   "cell_type": "code",
   "execution_count": null,
   "id": "1afab4a4",
   "metadata": {},
   "outputs": [],
   "source": [
    "# Logistic Regression on original data\n",
    "from sklearn.linear_model import LogisticRegression\n",
    "log_reg = LogisticRegression(max_iter=20000)          \n",
    "\n",
    "log_reg.fit(X_train, y_train)\n",
    "# validation set\n",
    "print(\"Validation Set Results:\")\n",
    "y_val_pred = log_reg.predict(X_val)\n",
    "print(\"Logistic Regression on Original Data\")\n",
    "print(classification_report(y_val, y_val_pred))\n",
    "print(\"Accuracy:\", accuracy_score(y_val, y_val_pred))\n",
    "# area under ROC curve      \n",
    "y_val_prob = log_reg.predict_proba(X_val)       \n",
    "roc_auc = roc_auc_score(y_val, y_val_prob, multi_class='ovr')\n",
    "print(\"ROC AUC:\", roc_auc)\n",
    "# test set  \n",
    "print(\"________________________________\")\n",
    "print(\"Test Set Results:\")\n",
    "y_pred = log_reg.predict(X_test)\n",
    "print(\"Logistic Regression on Original Data\")\n",
    "print(classification_report(y_test, y_pred))\n",
    "print(\"Accuracy:\", accuracy_score(y_test, y_pred))\n",
    "# area under ROC curve\n",
    "y_prob = log_reg.predict_proba(X_test)\n",
    "roc_auc = roc_auc_score(y_test, y_prob, multi_class='ovr')\n",
    "print(\"ROC AUC:\", roc_auc)  "
   ]
  }
 ],
 "metadata": {
  "kernelspec": {
   "display_name": ".venv (3.13.1)",
   "language": "python",
   "name": "python3"
  },
  "language_info": {
   "codemirror_mode": {
    "name": "ipython",
    "version": 3
   },
   "file_extension": ".py",
   "mimetype": "text/x-python",
   "name": "python",
   "nbconvert_exporter": "python",
   "pygments_lexer": "ipython3",
   "version": "3.13.1"
  }
 },
 "nbformat": 4,
 "nbformat_minor": 5
}
