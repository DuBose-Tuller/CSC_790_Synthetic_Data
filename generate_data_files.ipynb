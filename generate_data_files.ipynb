{
 "cells": [
  {
   "cell_type": "markdown",
   "id": "99b1e39c",
   "metadata": {},
   "source": [
    "# Synthetic Data Generation "
   ]
  },
  {
   "cell_type": "markdown",
   "id": "6a8b800e",
   "metadata": {},
   "source": [
    "## A. On Penguin Dataset"
   ]
  },
  {
   "cell_type": "code",
   "execution_count": null,
   "id": "7daa3636",
   "metadata": {},
   "outputs": [],
   "source": [
    "import pipeline_datasynthesizer\n",
    "import pipeline_smote\n",
    "\n",
    "DATASET1 = \"penguins\"\n",
    "TARGET1 = \"sex\"\n",
    "CATEGORICAL_COLS1 = ['species', 'island']"
   ]
  },
  {
   "cell_type": "markdown",
   "id": "cc5e8020",
   "metadata": {},
   "source": [
    "### i. DataSynthesizer Independent Mode"
   ]
  },
  {
   "cell_type": "code",
   "execution_count": null,
   "id": "48b97669",
   "metadata": {},
   "outputs": [],
   "source": [
    "proportions = [0.02, 0.05, 0.1, 0.2, 0.25, 0.3]\n",
    "for proportion in proportions:\n",
    "    pipeline_datasynthesizer.process_minority_proportion(\n",
    "        input_file=f'data/{DATASET1}/original/train.csv',\n",
    "        target_col=TARGET1,\n",
    "        target_proportion=proportion,\n",
    "        output_dir=f'data/{DATASET1}/independent',\n",
    "        categorical_cols=CATEGORICAL_COLS1,\n",
    "        mode='independent'\n",
    "    )"
   ]
  },
  {
   "cell_type": "markdown",
   "id": "96588d60",
   "metadata": {},
   "source": [
    "### ii. DataSynthesizer Correlated Mode"
   ]
  },
  {
   "cell_type": "code",
   "execution_count": null,
   "id": "bb6006fc",
   "metadata": {},
   "outputs": [],
   "source": [
    "proportions = [0.02, 0.05, 0.1, 0.2, 0.25, 0.3]\n",
    "for proportion in proportions:\n",
    "    pipeline_datasynthesizer.process_minority_proportion(\n",
    "        input_file=f'data/{DATASET1}/original/train.csv',\n",
    "        target_col=TARGET1,\n",
    "        target_proportion=proportion,\n",
    "        output_dir=f'data/{DATASET1}/correlated',\n",
    "        categorical_cols=CATEGORICAL_COLS1,\n",
    "        mode='correlated'\n",
    "    )"
   ]
  },
  {
   "cell_type": "markdown",
   "id": "74e18cf8",
   "metadata": {},
   "source": [
    "### iii. SMOTE"
   ]
  },
  {
   "cell_type": "code",
   "execution_count": null,
   "id": "8daff4dd",
   "metadata": {},
   "outputs": [],
   "source": [
    "for proportion in proportions:\n",
    "    pipeline_smote.process_minority_proportion(\n",
    "        input_file=f'data/{DATASET1}/original/train.csv',\n",
    "        target_col=TARGET1,\n",
    "        target_proportion=proportion,\n",
    "        output_dir=f'data/{DATASET1}/smote',\n",
    "        categorical_cols=CATEGORICAL_COLS1\n",
    "    )"
   ]
  },
  {
   "cell_type": "markdown",
   "id": "3cae6671",
   "metadata": {},
   "source": [
    "## B. On Fitness Dataset"
   ]
  },
  {
   "cell_type": "code",
   "execution_count": null,
   "id": "dce1064b",
   "metadata": {},
   "outputs": [],
   "source": [
    "\n",
    "import pipeline_datasynthesizer\n",
    "import pipeline_smote\n",
    "\n",
    "DATASET2 = \"fitness\"\n",
    "TARGET2 = \"is_fit\"\n",
    "CATEGORICAL_COLS2 = ['smokes', 'gender']"
   ]
  },
  {
   "cell_type": "markdown",
   "id": "f7f7ebc9",
   "metadata": {},
   "source": [
    "### i. DataSynthesizer Independent Mode"
   ]
  },
  {
   "cell_type": "code",
   "execution_count": null,
   "id": "88e53345",
   "metadata": {},
   "outputs": [],
   "source": [
    "proportions = [0.02, 0.05, 0.1, 0.2, 0.25, 0.3]\n",
    "for proportion in proportions:\n",
    "    pipeline_datasynthesizer.process_minority_proportion(\n",
    "        input_file=f'data/{DATASET2}/original/train.csv',\n",
    "        target_col=TARGET2,\n",
    "        target_proportion=proportion,\n",
    "        output_dir=f'data/{DATASET2}/independent',\n",
    "        categorical_cols=CATEGORICAL_COLS2,\n",
    "        mode='independent'\n",
    "    )"
   ]
  },
  {
   "cell_type": "markdown",
   "id": "52c2a749",
   "metadata": {},
   "source": [
    "### ii. DataSynthesizer Correlated Mode"
   ]
  },
  {
   "cell_type": "code",
   "execution_count": null,
   "id": "4c6654b6",
   "metadata": {},
   "outputs": [],
   "source": [
    "proportions = [0.02, 0.05, 0.1, 0.2, 0.25, 0.3]\n",
    "for proportion in proportions:\n",
    "    pipeline_datasynthesizer.process_minority_proportion(\n",
    "        input_file=f'data/{DATASET2}/original/train.csv',\n",
    "        target_col=TARGET2,\n",
    "        target_proportion=proportion,\n",
    "        output_dir=f'data/{DATASET2}/correlated',\n",
    "        categorical_cols=CATEGORICAL_COLS2,\n",
    "        mode='correlated'\n",
    "    )"
   ]
  },
  {
   "cell_type": "markdown",
   "id": "9f534a20",
   "metadata": {},
   "source": [
    "### iii. SMOTE"
   ]
  },
  {
   "cell_type": "code",
   "execution_count": null,
   "id": "ddf77f1b",
   "metadata": {},
   "outputs": [],
   "source": [
    "for proportion in proportions:\n",
    "    pipeline_smote.process_minority_proportion(\n",
    "        input_file=f'data/{DATASET2}/original/train.csv',\n",
    "        target_col=TARGET2,\n",
    "        target_proportion=proportion,\n",
    "        output_dir=f'data/{DATASET2}/smote',\n",
    "        categorical_cols=CATEGORICAL_COLS2\n",
    "    )"
   ]
  }
 ],
 "metadata": {
  "kernelspec": {
   "display_name": "Python 3",
   "language": "python",
   "name": "python3"
  },
  "language_info": {
   "codemirror_mode": {
    "name": "ipython",
    "version": 3
   },
   "file_extension": ".py",
   "mimetype": "text/x-python",
   "name": "python",
   "nbconvert_exporter": "python",
   "pygments_lexer": "ipython3",
   "version": "3.11.8"
  }
 },
 "nbformat": 4,
 "nbformat_minor": 5
}
