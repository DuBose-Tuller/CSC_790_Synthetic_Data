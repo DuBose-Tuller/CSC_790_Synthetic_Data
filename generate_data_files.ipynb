{
 "cells": [
  {
   "cell_type": "code",
   "execution_count": null,
   "id": "7daa3636",
   "metadata": {},
   "outputs": [],
   "source": [
    "import downsample_datasynthesizer\n",
    "import downsample_smote"
   ]
  },
  {
   "cell_type": "code",
   "execution_count": null,
   "id": "48b97669",
   "metadata": {},
   "outputs": [],
   "source": [
    "proportions = [0.01, 0.03, 0.1, 0.3]\n",
    "for proportion in proportions:\n",
    "    downsample_datasynthesizer.process_minority_proportion(\n",
    "        input_file='data/fitness.csv',\n",
    "        target_col='is_fit',\n",
    "        target_proportion=proportion,\n",
    "        output_dir='data/fitness/correlated',\n",
    "        categorical_cols=['smokes', 'gender'],\n",
    "        mode='correlated'\n",
    "    )"
   ]
  },
  {
   "cell_type": "code",
   "execution_count": null,
   "id": "8daff4dd",
   "metadata": {},
   "outputs": [],
   "source": [
    "for proportion in proportions:\n",
    "    downsample_smote.process_minority_proportion(\n",
    "        input_file='data/fitness.csv',\n",
    "        target_col='is_fit',\n",
    "        target_proportion=proportion,\n",
    "        output_dir='data/fitness/smote',\n",
    "        categorical_cols=['smokes', 'gender']\n",
    "    )"
   ]
  }
 ],
 "metadata": {
  "kernelspec": {
   "display_name": "Python 3",
   "language": "python",
   "name": "python3"
  },
  "language_info": {
   "codemirror_mode": {
    "name": "ipython",
    "version": 3
   },
   "file_extension": ".py",
   "mimetype": "text/x-python",
   "name": "python",
   "nbconvert_exporter": "python",
   "pygments_lexer": "ipython3",
   "version": "3.11.8"
  }
 },
 "nbformat": 4,
 "nbformat_minor": 5
}
