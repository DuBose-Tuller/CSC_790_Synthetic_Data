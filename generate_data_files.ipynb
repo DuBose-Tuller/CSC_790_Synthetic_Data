{
 "cells": [
  {
   "cell_type": "markdown",
   "id": "99b1e39c",
   "metadata": {},
   "source": [
    "# Synthetic Data Generation "
   ]
  },
  {
   "cell_type": "markdown",
   "id": "6a8b800e",
   "metadata": {},
   "source": [
    "## A. On Penguin Dataset"
   ]
  },
  {
   "cell_type": "code",
   "execution_count": 12,
   "id": "7daa3636",
   "metadata": {},
   "outputs": [],
   "source": [
    "import pipeline_datasynthesizer\n",
    "import pipeline_smote\n",
    "\n",
    "DATASET1 = \"penguins\"\n",
    "TARGET1 = \"sex\"\n",
    "CATEGORICAL_COLS1 = ['species', 'island']"
   ]
  },
  {
   "cell_type": "markdown",
   "id": "cc5e8020",
   "metadata": {},
   "source": [
    "### i. DataSynthesizer Independent Mode"
   ]
  },
  {
   "cell_type": "code",
   "execution_count": 13,
   "id": "48b97669",
   "metadata": {},
   "outputs": [
    {
     "name": "stdout",
     "output_type": "stream",
     "text": [
      "Created data/penguins/independent/minority_2pct.csv (minority proportion: 2.0%)\n",
      "Created data/penguins/independent/minority_5pct.csv (minority proportion: 5.0%)\n",
      "Created data/penguins/independent/minority_10pct.csv (minority proportion: 10.0%)\n",
      "Created data/penguins/independent/minority_20pct.csv (minority proportion: 20.0%)\n",
      "Created data/penguins/independent/minority_25pct.csv (minority proportion: 25.0%)\n",
      "Created data/penguins/independent/minority_30pct.csv (minority proportion: 30.0%)\n"
     ]
    }
   ],
   "source": [
    "proportions = [0.02, 0.05, 0.1, 0.2, 0.25, 0.3]\n",
    "for proportion in proportions:\n",
    "    pipeline_datasynthesizer.process_minority_proportion(\n",
    "        input_file=f'data/{DATASET1}/original/train.csv',\n",
    "        target_col=TARGET1,\n",
    "        target_proportion=proportion,\n",
    "        output_dir=f'data/{DATASET1}/independent',\n",
    "        categorical_cols=CATEGORICAL_COLS1,\n",
    "        mode='independent'\n",
    "    )"
   ]
  },
  {
   "cell_type": "markdown",
   "id": "96588d60",
   "metadata": {},
   "source": [
    "### ii. DataSynthesizer Correlated Mode"
   ]
  },
  {
   "cell_type": "code",
   "execution_count": 14,
   "id": "bb6006fc",
   "metadata": {},
   "outputs": [
    {
     "name": "stdout",
     "output_type": "stream",
     "text": [
      "================ Constructing Bayesian Network (BN) ================\n",
      "Adding ROOT culmen_depth_mm\n"
     ]
    },
    {
     "name": "stdout",
     "output_type": "stream",
     "text": [
      "Adding attribute culmen_length_mm\n",
      "Adding attribute sex\n",
      "========================== BN constructed ==========================\n",
      "Created data/penguins/correlated/minority_2pct.csv (minority proportion: 2.0%)\n",
      "================ Constructing Bayesian Network (BN) ================\n",
      "Adding ROOT culmen_depth_mm\n",
      "Adding attribute culmen_length_mm\n",
      "Adding attribute flipper_length_mm\n",
      "Adding attribute species\n",
      "Adding attribute island\n",
      "Adding attribute sex\n",
      "========================== BN constructed ==========================\n",
      "Created data/penguins/correlated/minority_5pct.csv (minority proportion: 5.0%)\n",
      "================ Constructing Bayesian Network (BN) ================\n",
      "Adding ROOT sex\n",
      "Adding attribute species\n",
      "Adding attribute culmen_depth_mm\n",
      "Adding attribute culmen_length_mm\n",
      "Adding attribute body_mass_g\n",
      "Adding attribute flipper_length_mm\n",
      "Adding attribute island\n",
      "========================== BN constructed ==========================\n",
      "Created data/penguins/correlated/minority_10pct.csv (minority proportion: 10.0%)\n",
      "================ Constructing Bayesian Network (BN) ================\n",
      "Adding ROOT sex\n",
      "Adding attribute species\n",
      "Adding attribute body_mass_g\n",
      "Adding attribute culmen_depth_mm\n",
      "Adding attribute flipper_length_mm\n",
      "Adding attribute culmen_length_mm\n",
      "Adding attribute island\n",
      "========================== BN constructed ==========================\n",
      "Created data/penguins/correlated/minority_20pct.csv (minority proportion: 20.0%)\n",
      "================ Constructing Bayesian Network (BN) ================\n",
      "Adding ROOT sex\n",
      "Adding attribute species\n",
      "Adding attribute flipper_length_mm\n",
      "Adding attribute body_mass_g\n",
      "Adding attribute culmen_depth_mm\n",
      "Adding attribute culmen_length_mm\n",
      "Adding attribute island\n",
      "========================== BN constructed ==========================\n",
      "Created data/penguins/correlated/minority_25pct.csv (minority proportion: 25.0%)\n",
      "================ Constructing Bayesian Network (BN) ================\n",
      "Adding ROOT sex\n",
      "Adding attribute species\n",
      "Adding attribute flipper_length_mm\n",
      "Adding attribute culmen_depth_mm\n",
      "Adding attribute body_mass_g\n",
      "Adding attribute culmen_length_mm\n",
      "Adding attribute island\n",
      "========================== BN constructed ==========================\n",
      "Created data/penguins/correlated/minority_30pct.csv (minority proportion: 30.0%)\n"
     ]
    }
   ],
   "source": [
    "proportions = [0.02, 0.05, 0.1, 0.2, 0.25, 0.3]\n",
    "for proportion in proportions:\n",
    "    pipeline_datasynthesizer.process_minority_proportion(\n",
    "        input_file=f'data/{DATASET1}/original/train.csv',\n",
    "        target_col=TARGET1,\n",
    "        target_proportion=proportion,\n",
    "        output_dir=f'data/{DATASET1}/correlated',\n",
    "        categorical_cols=CATEGORICAL_COLS1,\n",
    "        mode='correlated'\n",
    "    )"
   ]
  },
  {
   "cell_type": "markdown",
   "id": "74e18cf8",
   "metadata": {},
   "source": [
    "### iii. SMOTE"
   ]
  },
  {
   "cell_type": "code",
   "execution_count": 15,
   "id": "8daff4dd",
   "metadata": {},
   "outputs": [
    {
     "name": "stdout",
     "output_type": "stream",
     "text": [
      "Created data/penguins/smote/minority_2pct_smote.csv (initial minority proportion: 2.0%, balanced to 50-50 with SMOTE)\n",
      "Created data/penguins/smote/minority_5pct_smote.csv (initial minority proportion: 5.0%, balanced to 50-50 with SMOTE)\n",
      "Created data/penguins/smote/minority_10pct_smote.csv (initial minority proportion: 10.0%, balanced to 50-50 with SMOTE)\n",
      "Created data/penguins/smote/minority_20pct_smote.csv (initial minority proportion: 20.0%, balanced to 50-50 with SMOTE)\n",
      "Created data/penguins/smote/minority_25pct_smote.csv (initial minority proportion: 25.0%, balanced to 50-50 with SMOTE)\n",
      "Created data/penguins/smote/minority_30pct_smote.csv (initial minority proportion: 30.0%, balanced to 50-50 with SMOTE)\n"
     ]
    }
   ],
   "source": [
    "for proportion in proportions:\n",
    "    pipeline_smote.process_minority_proportion(\n",
    "        input_file=f'data/{DATASET1}/original/train.csv',\n",
    "        target_col=TARGET1,\n",
    "        target_proportion=proportion,\n",
    "        output_dir=f'data/{DATASET1}/smote',\n",
    "        categorical_cols=CATEGORICAL_COLS1\n",
    "    )"
   ]
  },
  {
   "cell_type": "markdown",
   "id": "3cae6671",
   "metadata": {},
   "source": [
    "## B. On Fitness Dataset"
   ]
  },
  {
   "cell_type": "code",
   "execution_count": 16,
   "id": "dce1064b",
   "metadata": {},
   "outputs": [],
   "source": [
    "\n",
    "import pipeline_datasynthesizer\n",
    "import pipeline_smote\n",
    "\n",
    "DATASET2 = \"fitness\"\n",
    "TARGET2 = \"is_fit\"\n",
    "CATEGORICAL_COLS2 = ['smokes', 'gender']"
   ]
  },
  {
   "cell_type": "markdown",
   "id": "f7f7ebc9",
   "metadata": {},
   "source": [
    "### i. DataSynthesizer Independent Mode"
   ]
  },
  {
   "cell_type": "code",
   "execution_count": 17,
   "id": "88e53345",
   "metadata": {},
   "outputs": [
    {
     "name": "stdout",
     "output_type": "stream",
     "text": [
      "Created data/fitness/independent/minority_2pct.csv (minority proportion: 2.0%)\n",
      "Created data/fitness/independent/minority_5pct.csv (minority proportion: 5.0%)\n",
      "Created data/fitness/independent/minority_10pct.csv (minority proportion: 10.0%)\n",
      "Created data/fitness/independent/minority_20pct.csv (minority proportion: 20.0%)\n",
      "Created data/fitness/independent/minority_25pct.csv (minority proportion: 25.0%)\n",
      "Created data/fitness/independent/minority_30pct.csv (minority proportion: 30.0%)\n"
     ]
    }
   ],
   "source": [
    "proportions = [0.02, 0.05, 0.1, 0.2, 0.25, 0.3]\n",
    "for proportion in proportions:\n",
    "    pipeline_datasynthesizer.process_minority_proportion(\n",
    "        input_file=f'data/{DATASET2}/original/train.csv',\n",
    "        target_col=TARGET2,\n",
    "        target_proportion=proportion,\n",
    "        output_dir=f'data/{DATASET2}/independent',\n",
    "        categorical_cols=CATEGORICAL_COLS2,\n",
    "        mode='independent'\n",
    "    )"
   ]
  },
  {
   "cell_type": "markdown",
   "id": "52c2a749",
   "metadata": {},
   "source": [
    "### ii. DataSynthesizer Correlated Mode"
   ]
  },
  {
   "cell_type": "code",
   "execution_count": 18,
   "id": "4c6654b6",
   "metadata": {},
   "outputs": [
    {
     "name": "stdout",
     "output_type": "stream",
     "text": [
      "================ Constructing Bayesian Network (BN) ================\n",
      "Adding ROOT activity_index\n",
      "Adding attribute heart_rate\n",
      "Adding attribute nutrition_quality\n",
      "Adding attribute blood_pressure\n",
      "Adding attribute height_cm\n",
      "Adding attribute age\n",
      "Adding attribute sleep_hours\n",
      "Adding attribute smokes\n",
      "Adding attribute gender\n",
      "Adding attribute is_fit\n",
      "========================== BN constructed ==========================\n",
      "Created data/fitness/correlated/minority_2pct.csv (minority proportion: 2.0%)\n",
      "================ Constructing Bayesian Network (BN) ================\n",
      "Adding ROOT nutrition_quality\n",
      "Adding attribute height_cm\n",
      "Adding attribute sleep_hours\n",
      "Adding attribute heart_rate\n",
      "Adding attribute age\n",
      "Adding attribute blood_pressure\n",
      "Adding attribute activity_index\n",
      "Adding attribute weight_kg\n",
      "Adding attribute smokes\n",
      "Adding attribute gender\n",
      "Adding attribute is_fit\n",
      "========================== BN constructed ==========================\n",
      "Created data/fitness/correlated/minority_5pct.csv (minority proportion: 5.0%)\n",
      "================ Constructing Bayesian Network (BN) ================\n",
      "Adding ROOT nutrition_quality\n",
      "Adding attribute sleep_hours\n",
      "Adding attribute age\n",
      "Adding attribute height_cm\n",
      "Adding attribute blood_pressure\n",
      "Adding attribute activity_index\n",
      "Adding attribute heart_rate\n",
      "Adding attribute weight_kg\n",
      "Adding attribute smokes\n",
      "Adding attribute gender\n",
      "Adding attribute is_fit\n",
      "========================== BN constructed ==========================\n",
      "Created data/fitness/correlated/minority_10pct.csv (minority proportion: 10.0%)\n",
      "================ Constructing Bayesian Network (BN) ================\n",
      "Adding ROOT nutrition_quality\n",
      "Adding attribute sleep_hours\n",
      "Adding attribute height_cm\n",
      "Adding attribute age\n",
      "Adding attribute activity_index\n",
      "Adding attribute heart_rate\n",
      "Adding attribute blood_pressure\n",
      "Adding attribute weight_kg\n",
      "Adding attribute smokes\n",
      "Adding attribute gender\n",
      "Adding attribute is_fit\n",
      "========================== BN constructed ==========================\n",
      "Created data/fitness/correlated/minority_20pct.csv (minority proportion: 20.0%)\n",
      "================ Constructing Bayesian Network (BN) ================\n",
      "Adding ROOT nutrition_quality\n",
      "Adding attribute sleep_hours\n",
      "Adding attribute height_cm\n",
      "Adding attribute age\n",
      "Adding attribute blood_pressure\n",
      "Adding attribute activity_index\n",
      "Adding attribute heart_rate\n",
      "Adding attribute weight_kg\n",
      "Adding attribute smokes\n",
      "Adding attribute gender\n",
      "Adding attribute is_fit\n",
      "========================== BN constructed ==========================\n",
      "Created data/fitness/correlated/minority_25pct.csv (minority proportion: 25.0%)\n",
      "================ Constructing Bayesian Network (BN) ================\n",
      "Adding ROOT nutrition_quality\n",
      "Adding attribute sleep_hours\n",
      "Adding attribute age\n",
      "Adding attribute height_cm\n",
      "Adding attribute activity_index\n",
      "Adding attribute heart_rate\n",
      "Adding attribute blood_pressure\n",
      "Adding attribute weight_kg\n",
      "Adding attribute smokes\n",
      "Adding attribute gender\n",
      "Adding attribute is_fit\n",
      "========================== BN constructed ==========================\n",
      "Created data/fitness/correlated/minority_30pct.csv (minority proportion: 30.0%)\n"
     ]
    }
   ],
   "source": [
    "proportions = [0.02, 0.05, 0.1, 0.2, 0.25, 0.3]\n",
    "for proportion in proportions:\n",
    "    pipeline_datasynthesizer.process_minority_proportion(\n",
    "        input_file=f'data/{DATASET2}/original/train.csv',\n",
    "        target_col=TARGET2,\n",
    "        target_proportion=proportion,\n",
    "        output_dir=f'data/{DATASET2}/correlated',\n",
    "        categorical_cols=CATEGORICAL_COLS2,\n",
    "        mode='correlated'\n",
    "    )"
   ]
  },
  {
   "cell_type": "markdown",
   "id": "9f534a20",
   "metadata": {},
   "source": [
    "### iii. SMOTE"
   ]
  },
  {
   "cell_type": "code",
   "execution_count": 19,
   "id": "ddf77f1b",
   "metadata": {},
   "outputs": [
    {
     "name": "stdout",
     "output_type": "stream",
     "text": [
      "Created data/fitness/smote/minority_2pct_smote.csv (initial minority proportion: 2.0%, balanced to 50-50 with SMOTE)\n",
      "Created data/fitness/smote/minority_5pct_smote.csv (initial minority proportion: 5.0%, balanced to 50-50 with SMOTE)\n",
      "Created data/fitness/smote/minority_10pct_smote.csv (initial minority proportion: 10.0%, balanced to 50-50 with SMOTE)\n",
      "Created data/fitness/smote/minority_20pct_smote.csv (initial minority proportion: 20.0%, balanced to 50-50 with SMOTE)\n",
      "Created data/fitness/smote/minority_25pct_smote.csv (initial minority proportion: 25.0%, balanced to 50-50 with SMOTE)\n",
      "Created data/fitness/smote/minority_30pct_smote.csv (initial minority proportion: 30.0%, balanced to 50-50 with SMOTE)\n"
     ]
    }
   ],
   "source": [
    "for proportion in proportions:\n",
    "    pipeline_smote.process_minority_proportion(\n",
    "        input_file=f'data/{DATASET2}/original/train.csv',\n",
    "        target_col=TARGET2,\n",
    "        target_proportion=proportion,\n",
    "        output_dir=f'data/{DATASET2}/smote',\n",
    "        categorical_cols=CATEGORICAL_COLS2\n",
    "    )"
   ]
  }
 ],
 "metadata": {
  "kernelspec": {
   "display_name": "Python 3",
   "language": "python",
   "name": "python3"
  },
  "language_info": {
   "codemirror_mode": {
    "name": "ipython",
    "version": 3
   },
   "file_extension": ".py",
   "mimetype": "text/x-python",
   "name": "python",
   "nbconvert_exporter": "python",
   "pygments_lexer": "ipython3",
   "version": "3.11.8"
  }
 },
 "nbformat": 4,
 "nbformat_minor": 5
}
