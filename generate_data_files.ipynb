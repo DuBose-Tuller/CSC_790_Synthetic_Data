{
 "cells": [
  {
   "cell_type": "code",
   "execution_count": null,
   "id": "7daa3636",
   "metadata": {},
   "outputs": [],
   "source": [
    "import pipeline_datasynthesizer\n",
    "import pipeline_smote\n",
    "\n",
    "DATASET = \"fitness\"\n",
    "TARGET = \"is_fit\"\n",
    "CATEGORICAL_COLS = ['smokes', 'gender']"
   ]
  },
  {
   "cell_type": "code",
   "execution_count": null,
   "id": "48b97669",
   "metadata": {},
   "outputs": [],
   "source": [
    "proportions = [0.01, 0.02, 0.05, 0.1, 0.2, 0.25, 0.3]\n",
    "for proportion in proportions:\n",
    "    pipeline_datasynthesizer.process_minority_proportion(\n",
    "        input_file=f'data/{DATASET}/original/train.csv',\n",
    "        target_col=TARGET,\n",
    "        target_proportion=proportion,\n",
    "        output_dir=f'data/{DATASET}/independent',\n",
    "        categorical_cols=CATEGORICAL_COLS,\n",
    "        mode='independent'\n",
    "    )"
   ]
  },
  {
   "cell_type": "code",
   "execution_count": null,
   "id": "8daff4dd",
   "metadata": {},
   "outputs": [],
   "source": [
    "for proportion in proportions:\n",
    "    pipeline_smote.process_minority_proportion(\n",
    "        input_file=f'data/{DATASET}/original/train.csv',\n",
    "        target_col=TARGET,\n",
    "        target_proportion=proportion,\n",
    "        output_dir=f'data/{DATASET}/smote',\n",
    "        categorical_cols=CATEGORICAL_COLS\n",
    "    )"
   ]
  },
  {
   "cell_type": "code",
   "execution_count": null,
   "id": "ead24f72",
   "metadata": {},
   "outputs": [],
   "source": []
  }
 ],
 "metadata": {
  "kernelspec": {
   "display_name": ".venv (3.13.1)",
   "language": "python",
   "name": "python3"
  },
  "language_info": {
   "codemirror_mode": {
    "name": "ipython",
    "version": 3
   },
   "file_extension": ".py",
   "mimetype": "text/x-python",
   "name": "python",
   "nbconvert_exporter": "python",
   "pygments_lexer": "ipython3",
   "version": "3.13.1"
  }
 },
 "nbformat": 4,
 "nbformat_minor": 5
}
