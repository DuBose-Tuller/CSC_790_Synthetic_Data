{
 "cells": [
  {
   "cell_type": "code",
   "execution_count": null,
   "id": "7daa3636",
   "metadata": {},
   "outputs": [],
   "source": [
    "import downsample_datasynthesizer\n",
    "import downsample_smote"
   ]
  },
  {
   "cell_type": "code",
   "execution_count": null,
   "id": "48b97669",
   "metadata": {},
   "outputs": [],
   "source": [
    "proportions = [0.01, 0.03, 0.1, 0.3]\n",
    "for proportion in proportions:\n",
    "    downsample_datasynthesizer.process_minority_proportion(\n",
    "        input_file='data/fitness.csv',\n",
    "        target_col='is_fit',\n",
    "        target_proportion=proportion,\n",
    "        output_dir='data/fitness/correlated',\n",
    "        categorical_cols=['smokes', 'gender'],\n",
    "        mode='correlated'\n",
    "    )"
   ]
  },
  {
   "cell_type": "code",
   "execution_count": null,
   "id": "8daff4dd",
   "metadata": {},
   "outputs": [
    {
     "ename": "SyntaxError",
     "evalue": "invalid syntax (899869843.py, line 7)",
     "output_type": "error",
     "traceback": [
      "  \u001b[36mCell\u001b[39m\u001b[36m \u001b[39m\u001b[32mIn[6]\u001b[39m\u001b[32m, line 7\u001b[39m\n\u001b[31m    \u001b[39m\u001b[31mcategorical_cols=categorical_cols=['smokes', 'gender']\u001b[39m\n                                     ^\n\u001b[31mSyntaxError\u001b[39m\u001b[31m:\u001b[39m invalid syntax\n"
     ]
    }
   ],
   "source": [
    "for proportion in proportions:\n",
    "    downsample_smote.process_minority_proportion(\n",
    "        input_file='data/fitness.csv',\n",
    "        target_col='is_fit',\n",
    "        target_proportion=proportion,\n",
    "        output_dir='data/fitness/smote',\n",
    "        categorical_cols=['smokes', 'gender']\n",
    "    )"
   ]
  },
  {
   "cell_type": "code",
   "execution_count": null,
   "id": "c44a4eab",
   "metadata": {},
   "outputs": [],
   "source": []
  }
 ],
 "metadata": {
  "kernelspec": {
   "display_name": ".venv (3.13.1)",
   "language": "python",
   "name": "python3"
  },
  "language_info": {
   "codemirror_mode": {
    "name": "ipython",
    "version": 3
   },
   "file_extension": ".py",
   "mimetype": "text/x-python",
   "name": "python",
   "nbconvert_exporter": "python",
   "pygments_lexer": "ipython3",
   "version": "3.13.1"
  }
 },
 "nbformat": 4,
 "nbformat_minor": 5
}
